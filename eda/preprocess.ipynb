{
 "cells": [
  {
   "cell_type": "code",
   "execution_count": 1,
   "metadata": {},
   "outputs": [],
   "source": [
    "import pandas as pd\n",
    "from tqdm import tqdm"
   ]
  },
  {
   "cell_type": "code",
   "execution_count": 2,
   "metadata": {},
   "outputs": [
    {
     "data": {
      "text/html": [
       "<div>\n",
       "<style scoped>\n",
       "    .dataframe tbody tr th:only-of-type {\n",
       "        vertical-align: middle;\n",
       "    }\n",
       "\n",
       "    .dataframe tbody tr th {\n",
       "        vertical-align: top;\n",
       "    }\n",
       "\n",
       "    .dataframe thead th {\n",
       "        text-align: right;\n",
       "    }\n",
       "</style>\n",
       "<table border=\"1\" class=\"dataframe\">\n",
       "  <thead>\n",
       "    <tr style=\"text-align: right;\">\n",
       "      <th></th>\n",
       "      <th>image</th>\n",
       "      <th>species</th>\n",
       "      <th>individual_id</th>\n",
       "    </tr>\n",
       "  </thead>\n",
       "  <tbody>\n",
       "    <tr>\n",
       "      <th>51028</th>\n",
       "      <td>fff639a7a78b3f.jpg</td>\n",
       "      <td>beluga</td>\n",
       "      <td>5ac053677ed1</td>\n",
       "    </tr>\n",
       "    <tr>\n",
       "      <th>51029</th>\n",
       "      <td>fff8b32daff17e.jpg</td>\n",
       "      <td>cuviers_beaked_whale</td>\n",
       "      <td>1184686361b3</td>\n",
       "    </tr>\n",
       "    <tr>\n",
       "      <th>51030</th>\n",
       "      <td>fff94675cc1aef.jpg</td>\n",
       "      <td>blue_whale</td>\n",
       "      <td>5401612696b9</td>\n",
       "    </tr>\n",
       "    <tr>\n",
       "      <th>51031</th>\n",
       "      <td>fffbc5dd642d8c.jpg</td>\n",
       "      <td>beluga</td>\n",
       "      <td>4000b3d7c24e</td>\n",
       "    </tr>\n",
       "    <tr>\n",
       "      <th>51032</th>\n",
       "      <td>fffdcd42312777.jpg</td>\n",
       "      <td>bottlenose_dolphin</td>\n",
       "      <td>4ddb2eeb5efb</td>\n",
       "    </tr>\n",
       "  </tbody>\n",
       "</table>\n",
       "</div>"
      ],
      "text/plain": [
       "                    image               species individual_id\n",
       "51028  fff639a7a78b3f.jpg                beluga  5ac053677ed1\n",
       "51029  fff8b32daff17e.jpg  cuviers_beaked_whale  1184686361b3\n",
       "51030  fff94675cc1aef.jpg            blue_whale  5401612696b9\n",
       "51031  fffbc5dd642d8c.jpg                beluga  4000b3d7c24e\n",
       "51032  fffdcd42312777.jpg    bottlenose_dolphin  4ddb2eeb5efb"
      ]
     },
     "execution_count": 2,
     "metadata": {},
     "output_type": "execute_result"
    }
   ],
   "source": [
    "data = pd.read_csv('train.csv')\n",
    "data.tail()"
   ]
  },
  {
   "cell_type": "code",
   "execution_count": 4,
   "metadata": {},
   "outputs": [],
   "source": [
    "counter = {}\n",
    "for row_num, row in data.iterrows():\n",
    "    try:\n",
    "        counter[row['individual_id']] += 1\n",
    "    except:\n",
    "        counter[row['individual_id']] = 1"
   ]
  },
  {
   "cell_type": "markdown",
   "metadata": {},
   "source": [
    "1개 혹은 2개 만의 image를 가진 indivisual id 다수\n",
    "38개 이상으로 더 많은 image를 가진\n",
    "유일한 indivisual id를 가진 이미지 9258 그 외 41774\n"
   ]
  },
  {
   "cell_type": "code",
   "execution_count": 40,
   "metadata": {},
   "outputs": [
    {
     "data": {
      "text/plain": [
       "1745025302"
      ]
     },
     "execution_count": 40,
     "metadata": {},
     "output_type": "execute_result"
    }
   ],
   "source": [
    "# -9258\n",
    "41774 * 41773"
   ]
  },
  {
   "cell_type": "code",
   "execution_count": 35,
   "metadata": {},
   "outputs": [
    {
     "name": "stderr",
     "output_type": "stream",
     "text": [
      "c:\\Users\\Lee\\anaconda3\\envs\\torch\\lib\\site-packages\\seaborn\\_decorators.py:36: FutureWarning: Pass the following variables as keyword args: x, y. From version 0.12, the only valid positional argument will be `data`, and passing other arguments without an explicit keyword will result in an error or misinterpretation.\n",
      "  warnings.warn(\n"
     ]
    },
    {
     "data": {
      "text/plain": [
       "<AxesSubplot:>"
      ]
     },
     "execution_count": 35,
     "metadata": {},
     "output_type": "execute_result"
    },
    {
     "data": {
      "image/png": "[encoded data removed]",
      "text/plain": [
       "<Figure size 1080x1080 with 1 Axes>"
      ]
     },
     "metadata": {},
     "output_type": "display_data"
    }
   ],
   "source": [
    "import seaborn as sns\n",
    "value_counter = []\n",
    "value_index = []\n",
    "for value_count in range(max(counter.values())):\n",
    "    value_count_value = list(counter.values()).count(value_count)\n",
    "    if value_count_value < 10:\n",
    "        continue\n",
    "    value_counter.append(value_count_value)\n",
    "    value_index.append(value_count)\n",
    "sns.set(rc = {'figure.figsize':(15,15)})\n",
    "sns.barplot(value_index[2:], value_counter[2:])"
   ]
  },
  {
   "cell_type": "code",
   "execution_count": 34,
   "metadata": {},
   "outputs": [
    {
     "data": {
      "text/plain": [
       "165"
      ]
     },
     "execution_count": 34,
     "metadata": {},
     "output_type": "execute_result"
    }
   ],
   "source": [
    "sum(value_counter[40:])"
   ]
  },
  {
   "cell_type": "code",
   "execution_count": 56,
   "metadata": {},
   "outputs": [
    {
     "name": "stdout",
     "output_type": "stream",
     "text": [
      "51033\n",
      "51033\n"
     ]
    }
   ],
   "source": [
    "print(len(data['image'].values))\n",
    "print(len(set(data['image'].values)))"
   ]
  },
  {
   "cell_type": "code",
   "execution_count": 59,
   "metadata": {},
   "outputs": [],
   "source": [
    "maked_data = pd.DataFrame(columns=['image1', 'image2', 'individual_id', 'species'])\n",
    "for category in list(set(data['individual_id'])):\n",
    "    temp_df = pd.DataFrame()\n",
    "    images = list(data[data['individual_id'] == category]['image'].values)\n",
    "    first_images = []\n",
    "    second_images = []\n",
    "    temp_images = images\n",
    "    for index, image1 in enumerate(images):\n",
    "        for image2 in temp_images:\n",
    "            first_images.append(image1)\n",
    "            second_images.append(image2)\n",
    "        del temp_images[index]\n",
    "    \n",
    "    temp_df['image1'] = pd.Series(first_images)\n",
    "    temp_df['image2'] = pd.Series(second_images)\n",
    "    temp_df['individual_id'] = category\n",
    "    if len(list(set(data[data['individual_id'] == category]['species']))) > 1:\n",
    "        raise \"species suppose to be 1\"\n",
    "    temp_df['species'] = list(set(data[data['individual_id'] == category]['species']))[0]\n",
    "    \n",
    "    maked_data = maked_data.append(temp_df, ignore_index = True)"
   ]
  },
  {
   "cell_type": "code",
   "execution_count": 60,
   "metadata": {},
   "outputs": [
    {
     "data": {
      "text/html": [
       "<div>\n",
       "<style scoped>\n",
       "    .dataframe tbody tr th:only-of-type {\n",
       "        vertical-align: middle;\n",
       "    }\n",
       "\n",
       "    .dataframe tbody tr th {\n",
       "        vertical-align: top;\n",
       "    }\n",
       "\n",
       "    .dataframe thead th {\n",
       "        text-align: right;\n",
       "    }\n",
       "</style>\n",
       "<table border=\"1\" class=\"dataframe\">\n",
       "  <thead>\n",
       "    <tr style=\"text-align: right;\">\n",
       "      <th></th>\n",
       "      <th>image1</th>\n",
       "      <th>image2</th>\n",
       "      <th>individual_id</th>\n",
       "      <th>species</th>\n",
       "    </tr>\n",
       "  </thead>\n",
       "  <tbody>\n",
       "    <tr>\n",
       "      <th>582935</th>\n",
       "      <td>55d16898f22f4f.jpg</td>\n",
       "      <td>55d16898f22f4f.jpg</td>\n",
       "      <td>4871a3751a86</td>\n",
       "      <td>blue_whale</td>\n",
       "    </tr>\n",
       "    <tr>\n",
       "      <th>582936</th>\n",
       "      <td>55d16898f22f4f.jpg</td>\n",
       "      <td>9990f21d55be90.jpg</td>\n",
       "      <td>4871a3751a86</td>\n",
       "      <td>blue_whale</td>\n",
       "    </tr>\n",
       "    <tr>\n",
       "      <th>582937</th>\n",
       "      <td>efb53d2e25c25d.jpg</td>\n",
       "      <td>efb53d2e25c25d.jpg</td>\n",
       "      <td>cc646eadbff3</td>\n",
       "      <td>blue_whale</td>\n",
       "    </tr>\n",
       "    <tr>\n",
       "      <th>582938</th>\n",
       "      <td>e8f886f9465d69.jpg</td>\n",
       "      <td>e8f886f9465d69.jpg</td>\n",
       "      <td>5bfff69d5090</td>\n",
       "      <td>gray_whale</td>\n",
       "    </tr>\n",
       "    <tr>\n",
       "      <th>582939</th>\n",
       "      <td>71b61d11e1b4d3.jpg</td>\n",
       "      <td>71b61d11e1b4d3.jpg</td>\n",
       "      <td>8cf556d2deb3</td>\n",
       "      <td>humpback_whale</td>\n",
       "    </tr>\n",
       "  </tbody>\n",
       "</table>\n",
       "</div>"
      ],
      "text/plain": [
       "                    image1              image2 individual_id         species\n",
       "582935  55d16898f22f4f.jpg  55d16898f22f4f.jpg  4871a3751a86      blue_whale\n",
       "582936  55d16898f22f4f.jpg  9990f21d55be90.jpg  4871a3751a86      blue_whale\n",
       "582937  efb53d2e25c25d.jpg  efb53d2e25c25d.jpg  cc646eadbff3      blue_whale\n",
       "582938  e8f886f9465d69.jpg  e8f886f9465d69.jpg  5bfff69d5090      gray_whale\n",
       "582939  71b61d11e1b4d3.jpg  71b61d11e1b4d3.jpg  8cf556d2deb3  humpback_whale"
      ]
     },
     "execution_count": 60,
     "metadata": {},
     "output_type": "execute_result"
    }
   ],
   "source": [
    "maked_data.tail()\n",
    "#582939\t71b61d11e1b4d3.jpg\t71b61d11e1b4d3.jpg\t8cf556d2deb3\thumpback_whale"
   ]
  },
  {
   "cell_type": "code",
   "execution_count": 61,
   "metadata": {},
   "outputs": [],
   "source": [
    "unique = []\n",
    "for image1, image2 in maked_data[['image1', 'image2']].values:\n",
    "    if image1 != image2:\n",
    "        unique.append(f'{image1}_{image2}')\n",
    "    else:\n",
    "        unique.append(f'{image2}_{image1}')   "
   ]
  },
  {
   "cell_type": "code",
   "execution_count": 63,
   "metadata": {},
   "outputs": [],
   "source": [
    "maked_data.to_csv('image_combination.csv', index=False)"
   ]
  },
  {
   "cell_type": "code",
   "execution_count": 5,
   "metadata": {},
   "outputs": [
    {
     "name": "stdout",
     "output_type": "stream",
     "text": [
      "582940\n",
      "51033\n"
     ]
    }
   ],
   "source": [
    "data = pd.read_csv('image_combination.csv')\n",
    "train_data = pd.read_csv('train.csv')\n",
    "print(len(data))\n",
    "print(len(train_data))"
   ]
  },
  {
   "cell_type": "code",
   "execution_count": 6,
   "metadata": {},
   "outputs": [
    {
     "name": "stdout",
     "output_type": "stream",
     "text": [
      "31033\n",
      "51033\n"
     ]
    }
   ],
   "source": [
    "print(len(set(data['image1'].values)))\n",
    "print(len(set(data['image2'].values)))"
   ]
  },
  {
   "cell_type": "code",
   "execution_count": 30,
   "metadata": {},
   "outputs": [
    {
     "name": "stderr",
     "output_type": "stream",
     "text": [
      "582940it [50:13, 193.46it/s]\n"
     ]
    }
   ],
   "source": [
    "cnt = 0\n",
    "for _,row in tqdm(data.iterrows()):\n",
    "    image1_type = train_data[train_data['image'] == row['image1']]['individual_id'].values[0]\n",
    "    image2_type = train_data[train_data['image'] == row['image2']]['individual_id'].values[0]\n",
    "    if image1_type == image2_type:\n",
    "        cnt += 1\n",
    "    else:\n",
    "        print('wrong combination')"
   ]
  },
  {
   "cell_type": "code",
   "execution_count": 29,
   "metadata": {},
   "outputs": [
    {
     "data": {
      "text/plain": [
       "0.10576731739115518"
      ]
     },
     "execution_count": 29,
     "metadata": {},
     "output_type": "execute_result"
    }
   ],
   "source": [
    "cnt / len(data)"
   ]
  },
  {
   "cell_type": "code",
   "execution_count": 3,
   "metadata": {},
   "outputs": [],
   "source": [
    "dataframe = pd.read_csv('0_npy_image.csv')\n",
    "for i in range(1,8):\n",
    "    temp = pd.read_csv(f'{i}_npy_image.csv')\n",
    "    dataframe = dataframe.append(temp)"
   ]
  },
  {
   "cell_type": "code",
   "execution_count": 4,
   "metadata": {},
   "outputs": [],
   "source": [
    "dataframe.drop('Unnamed: 0',inplace=True, axis=1)"
   ]
  },
  {
   "cell_type": "code",
   "execution_count": 5,
   "metadata": {},
   "outputs": [
    {
     "name": "stdout",
     "output_type": "stream",
     "text": [
      "51040\n",
      "51040\n"
     ]
    }
   ],
   "source": [
    "print(len(set(dataframe['npy'].values)))\n",
    "print(len(dataframe))"
   ]
  },
  {
   "cell_type": "code",
   "execution_count": null,
   "metadata": {},
   "outputs": [],
   "source": [
    "dataframe.to_csv('all_train_npy.csv',index=False)"
   ]
  }
 ],
 "metadata": {
  "interpreter": {
   "hash": "6ea1cb979669c984b4ffeb8654fcb1aa352d7f0cf3dd8c9c9808e7dddfe025d7"
  },
  "kernelspec": {
   "display_name": "Python 3.8.5 ('torch')",
   "language": "python",
   "name": "python3"
  },
  "language_info": {
   "codemirror_mode": {
    "name": "ipython",
    "version": 3
   },
   "file_extension": ".py",
   "mimetype": "text/x-python",
   "name": "python",
   "nbconvert_exporter": "python",
   "pygments_lexer": "ipython3",
   "version": "3.8.5"
  },
  "orig_nbformat": 4
 },
 "nbformat": 4,
 "nbformat_minor": 2
}
